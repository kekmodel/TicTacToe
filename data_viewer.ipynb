{
 "cells": [
  {
   "cell_type": "code",
   "execution_count": null,
   "metadata": {},
   "outputs": [],
   "source": [
    "import numpy as np\n",
    "from collections import defaultdict, deque"
   ]
  },
  {
   "cell_type": "code",
   "execution_count": 3,
   "metadata": {},
   "outputs": [
    {
     "ename": "FileNotFoundError",
     "evalue": "[Errno 2] No such file or directory: 'data/state_memory.npy'",
     "traceback": [
      "\u001b[0;31m---------------------------------------------------------------------------\u001b[0m",
      "\u001b[0;31mFileNotFoundError\u001b[0m                         Traceback (most recent call last)",
      "\u001b[0;32m<ipython-input-3-39a14ae769a8>\u001b[0m in \u001b[0;36m<module>\u001b[0;34m()\u001b[0m\n\u001b[0;32m----> 1\u001b[0;31m \u001b[0mstate_memory\u001b[0m \u001b[0;34m=\u001b[0m \u001b[0mnp\u001b[0m\u001b[0;34m.\u001b[0m\u001b[0mload\u001b[0m\u001b[0;34m(\u001b[0m\u001b[0;34m'data/state_memory.npy'\u001b[0m\u001b[0;34m)\u001b[0m\u001b[0;34m\u001b[0m\u001b[0m\n\u001b[0m\u001b[1;32m      2\u001b[0m \u001b[0medge_memory\u001b[0m \u001b[0;34m=\u001b[0m \u001b[0mnp\u001b[0m\u001b[0;34m.\u001b[0m\u001b[0mload\u001b[0m\u001b[0;34m(\u001b[0m\u001b[0;34m'data/edge_memory.npy'\u001b[0m\u001b[0;34m)\u001b[0m\u001b[0;34m\u001b[0m\u001b[0m\n",
      "\u001b[0;32m~/anaconda3/lib/python3.5/site-packages/numpy/lib/npyio.py\u001b[0m in \u001b[0;36mload\u001b[0;34m(file, mmap_mode, allow_pickle, fix_imports, encoding)\u001b[0m\n\u001b[1;32m    368\u001b[0m     \u001b[0mown_fid\u001b[0m \u001b[0;34m=\u001b[0m \u001b[0;32mFalse\u001b[0m\u001b[0;34m\u001b[0m\u001b[0m\n\u001b[1;32m    369\u001b[0m     \u001b[0;32mif\u001b[0m \u001b[0misinstance\u001b[0m\u001b[0;34m(\u001b[0m\u001b[0mfile\u001b[0m\u001b[0;34m,\u001b[0m \u001b[0mbasestring\u001b[0m\u001b[0;34m)\u001b[0m\u001b[0;34m:\u001b[0m\u001b[0;34m\u001b[0m\u001b[0m\n\u001b[0;32m--> 370\u001b[0;31m         \u001b[0mfid\u001b[0m \u001b[0;34m=\u001b[0m \u001b[0mopen\u001b[0m\u001b[0;34m(\u001b[0m\u001b[0mfile\u001b[0m\u001b[0;34m,\u001b[0m \u001b[0;34m\"rb\"\u001b[0m\u001b[0;34m)\u001b[0m\u001b[0;34m\u001b[0m\u001b[0m\n\u001b[0m\u001b[1;32m    371\u001b[0m         \u001b[0mown_fid\u001b[0m \u001b[0;34m=\u001b[0m \u001b[0;32mTrue\u001b[0m\u001b[0;34m\u001b[0m\u001b[0m\n\u001b[1;32m    372\u001b[0m     \u001b[0;32melif\u001b[0m \u001b[0mis_pathlib_path\u001b[0m\u001b[0;34m(\u001b[0m\u001b[0mfile\u001b[0m\u001b[0;34m)\u001b[0m\u001b[0;34m:\u001b[0m\u001b[0;34m\u001b[0m\u001b[0m\n",
      "\u001b[0;31mFileNotFoundError\u001b[0m: [Errno 2] No such file or directory: 'data/state_memory.npy'"
     ],
     "output_type": "error"
    }
   ],
   "source": [
    "state_memory = np.load('data/state_memory_25000_f1.npy')\n",
    "edge_memory = np.load('data/edge_memory_25000_f1.npy')"
   ]
  },
  {
   "cell_type": "code",
   "execution_count": 125,
   "metadata": {},
   "outputs": [
    {
     "data": {
      "text/plain": [
       "6014"
      ]
     },
     "execution_count": 125,
     "metadata": {},
     "output_type": "execute_result"
    }
   ],
   "source": [
    "len(state_memory)\n",
    "len(edge_memory)"
   ]
  },
  {
   "cell_type": "code",
   "execution_count": 126,
   "metadata": {},
   "outputs": [],
   "source": [
    "node_memory = deque(maxlen=len(state_memory))\n",
    "tree_memory = defaultdict(lambda: 0)\n",
    "\n",
    "# make tree\n",
    "for v in state_memory:\n",
    "    v_t = tuple(v)\n",
    "    node_memory.append(v_t)\n",
    "tmp = list(zip(node_memory, edge_memory))\n",
    "for v in tmp:\n",
    "    tree_memory[v[0]] += v[1]"
   ]
  },
  {
   "cell_type": "code",
   "execution_count": 127,
   "metadata": {},
   "outputs": [
    {
     "data": {
      "text/plain": [
       "2854"
      ]
     },
     "execution_count": 127,
     "metadata": {},
     "output_type": "execute_result"
    }
   ],
   "source": [
    "len(tree_memory)"
   ]
  },
  {
   "cell_type": "code",
   "execution_count": 128,
   "metadata": {},
   "outputs": [],
   "source": [
    "root = tuple(np.zeros((3, 3, 3), 'float').flatten())"
   ]
  },
  {
   "cell_type": "code",
   "execution_count": 129,
   "metadata": {},
   "outputs": [
    {
     "name": "stdout",
     "output_type": "stream",
     "text": [
      "[[[ 107.    39.     0.    88.6]\n",
      "  [  74.    21.     0.    89.5]\n",
      "  [ 116.    44.     0.    88.8]]\n",
      "\n",
      " [[  50.     7.     0.    88.6]\n",
      "  [ 208.    98.     0.    89.5]\n",
      "  [  43.     3.     0.    88.6]]\n",
      "\n",
      " [[ 103.    39.     0.    88.9]\n",
      "  [  26.    -6.     0.    88.3]\n",
      "  [  73.    21.     0.    89.3]]]\n"
     ]
    }
   ],
   "source": [
    "print(np.around(tree_memory[root], decimals=1))"
   ]
  },
  {
   "cell_type": "code",
   "execution_count": 12,
   "metadata": {},
   "outputs": [],
   "source": [
    "# make policy\n",
    "n_val = deque(maxlen=9)\n",
    "pi_val = deque(maxlen=9)\n",
    "e_x = deque(maxlen=9)\n",
    "state_data = deque(maxlen=len(tree_memory))\n",
    "pi_data = deque(maxlen=len(tree_memory))\n",
    "\n",
    "\n",
    "for k, v in tree_memory.items():\n",
    "    state_data.append(k)\n",
    "    for r in range(3):\n",
    "        for c in range(3):\n",
    "            n_val.append(v[r][c][0])\n",
    "    for i in range(9):\n",
    "        e_x.append(np.exp(n_val[i] - np.max(n_val)))\n",
    "    for i in range(9):\n",
    "        pi_val.append(e_x[i] / np.sum(e_x, axis=0))       \n",
    "    pi_data.append(np.asarray(pi_val).reshape((3, 3)))\n",
    "\n",
    "def softmax(state):    \n",
    "    if tuple(state.flatten()) in state_data:\n",
    "        i = tuple(state.flatten())\n",
    "        j = state_data.index(i)\n",
    "        board = np.asarray(state_data[j]).reshape((3, 3, 3))\n",
    "        print(board[0] + board[1] * 2, '\\n')\n",
    "        print((pi_data[j].round(decimals=4)))\n",
    "    else:\n",
    "        return 0"
   ]
  },
  {
   "cell_type": "code",
   "execution_count": 13,
   "metadata": {},
   "outputs": [
    {
     "data": {
      "text/plain": [
       "array([[[ 1.,  0.,  1.],\n",
       "        [ 0.,  0.,  1.],\n",
       "        [ 0.,  1.,  0.]],\n",
       "\n",
       "       [[ 0.,  1.,  0.],\n",
       "        [ 1.,  1.,  0.],\n",
       "        [ 0.,  0.,  0.]],\n",
       "\n",
       "       [[ 0.,  1.,  0.],\n",
       "        [ 1.,  1.,  0.],\n",
       "        [ 0.,  0.,  0.]]])"
      ]
     },
     "execution_count": 13,
     "metadata": {},
     "output_type": "execute_result"
    }
   ],
   "source": [
    "bug = np.zeros((3, 3, 3), 'float')\n",
    "bug[0][0][0] = 1\n",
    "bug[0][0][1]\n",
    "bug[0][0][2] = 1\n",
    "bug[0][1][0]\n",
    "bug[0][1][1]\n",
    "bug[0][1][2] = 1\n",
    "bug[0][2][0]\n",
    "bug[0][2][1] = 1\n",
    "bug[0][2][2]\n",
    "bug[1][0][0]\n",
    "bug[1][0][1] = 1\n",
    "bug[1][0][2]\n",
    "bug[1][1][0] = 1\n",
    "bug[1][1][1] = 1\n",
    "bug[1][1][2]\n",
    "bug[1][2][0]\n",
    "bug[1][2][1]\n",
    "bug[1][2][2]\n",
    "bug[2][0][0]\n",
    "bug[2][0][1] = 1\n",
    "bug[2][0][2]\n",
    "bug[2][1][0] = 1\n",
    "bug[2][1][1] = 1\n",
    "bug[2][1][2]\n",
    "bug[2][2][0]\n",
    "bug[2][2][1]\n",
    "bug[2][2][2]\n",
    "bug"
   ]
  },
  {
   "cell_type": "code",
   "execution_count": 14,
   "metadata": {},
   "outputs": [],
   "source": [
    "zero = np.zeros((3, 3, 3), 'float')"
   ]
  },
  {
   "cell_type": "code",
   "execution_count": 15,
   "metadata": {},
   "outputs": [
    {
     "name": "stdout",
     "output_type": "stream",
     "text": [
      "[[ 0.  0.  0.]\n",
      " [ 0.  0.  0.]\n",
      " [ 0.  0.  0.]] \n",
      "\n",
      "[[ 0.  0.  0.]\n",
      " [ 0.  1.  0.]\n",
      " [ 0.  0.  0.]]\n"
     ]
    }
   ],
   "source": [
    "softmax(zero)"
   ]
  },
  {
   "cell_type": "code",
   "execution_count": 16,
   "metadata": {},
   "outputs": [
    {
     "data": {
      "text/plain": [
       "0"
      ]
     },
     "execution_count": 16,
     "metadata": {},
     "output_type": "execute_result"
    }
   ],
   "source": [
    "tree_memory[tuple(bug.flatten())]"
   ]
  },
  {
   "cell_type": "code",
   "execution_count": 81,
   "metadata": {},
   "outputs": [
    {
     "data": {
      "text/plain": [
       "3"
      ]
     },
     "execution_count": 81,
     "metadata": {},
     "output_type": "execute_result"
    }
   ],
   "source": [
    "val = [3, 3, 3, 4]\n",
    "np.random.choice(len(val))"
   ]
  },
  {
   "cell_type": "code",
   "execution_count": 97,
   "metadata": {},
   "outputs": [
    {
     "name": "stdout",
     "output_type": "stream",
     "text": [
      "0\n",
      "0\n",
      "1\n",
      "1\n",
      "0\n",
      "0\n",
      "0\n",
      "0\n",
      "0\n",
      "0\n"
     ]
    }
   ],
   "source": [
    "for _ in range(10):\n",
    "    print(np.random.choice(2, replace=False))"
   ]
  },
  {
   "cell_type": "code",
   "execution_count": null,
   "metadata": {},
   "outputs": [],
   "source": []
  }
 ],
 "metadata": {
  "kernelspec": {
   "display_name": "Python 3",
   "language": "python",
   "name": "python3"
  },
  "language_info": {
   "codemirror_mode": {
    "name": "ipython",
    "version": 3
   },
   "file_extension": ".py",
   "mimetype": "text/x-python",
   "name": "python",
   "nbconvert_exporter": "python",
   "pygments_lexer": "ipython3",
   "version": "3.5.4"
  }
 },
 "nbformat": 4,
 "nbformat_minor": 2
}
