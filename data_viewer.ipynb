{
 "cells": [
  {
   "cell_type": "code",
   "execution_count": 2,
   "metadata": {},
   "outputs": [],
   "source": [
    "import numpy as np\n",
    "np.set_printoptions(suppress=True)\n",
    "from collections import defaultdict, deque\n",
    "from IPython.core.interactiveshell import InteractiveShell\n",
    "InteractiveShell.ast_node_interactivity = \"all\""
   ]
  },
  {
   "cell_type": "code",
   "execution_count": 13,
   "metadata": {},
   "outputs": [],
   "source": [
    "state_memory = np.load('data/state_memory_3kz.npy')\n",
    "edge_memory = np.load('data/edge_memory_3kz.npy')\n",
    "\n",
    "node_memory = deque(maxlen=len(state_memory))\n",
    "tree_memory = defaultdict(lambda: 0)\n",
    "\n",
    "# make tree\n",
    "for v in state_memory:\n",
    "    v_t = tuple(v)\n",
    "    node_memory.append(v_t)\n",
    "tmp = list(zip(node_memory, edge_memory))\n",
    "for v in tmp:\n",
    "    tree_memory[v[0]] += v[1]"
   ]
  },
  {
   "cell_type": "code",
   "execution_count": 14,
   "metadata": {},
   "outputs": [
    {
     "data": {
      "text/plain": [
       "22560"
      ]
     },
     "execution_count": 14,
     "metadata": {},
     "output_type": "execute_result"
    },
    {
     "data": {
      "text/plain": [
       "22560"
      ]
     },
     "execution_count": 14,
     "metadata": {},
     "output_type": "execute_result"
    }
   ],
   "source": [
    "len(state_memory)\n",
    "len(edge_memory)"
   ]
  },
  {
   "cell_type": "code",
   "execution_count": 15,
   "metadata": {},
   "outputs": [
    {
     "data": {
      "text/plain": [
       "11091"
      ]
     },
     "execution_count": 15,
     "metadata": {},
     "output_type": "execute_result"
    }
   ],
   "source": [
    "len(tree_memory)"
   ]
  },
  {
   "cell_type": "code",
   "execution_count": 16,
   "metadata": {},
   "outputs": [
    {
     "data": {
      "text/plain": [
       "0.49"
      ]
     },
     "execution_count": 16,
     "metadata": {},
     "output_type": "execute_result"
    }
   ],
   "source": [
    "round(len(tree_memory)/len(state_memory), 2)"
   ]
  },
  {
   "cell_type": "code",
   "execution_count": 17,
   "metadata": {},
   "outputs": [],
   "source": [
    "root = tuple(np.zeros((9, 3, 3), 'float').flatten())"
   ]
  },
  {
   "cell_type": "code",
   "execution_count": 18,
   "metadata": {},
   "outputs": [
    {
     "name": "stdout",
     "output_type": "stream",
     "text": [
      "[[[ 343.  117.    0.  334.]\n",
      "  [ 218.   54.    0.  332.]\n",
      "  [ 266.   76.    0.  333.]]\n",
      "\n",
      " [[ 151.   15.    0.  333.]\n",
      "  [ 945.  414.    0.  332.]\n",
      "  [ 173.   25.    0.  333.]]\n",
      "\n",
      " [[ 330.  117.    0.  334.]\n",
      "  [ 233.   57.    0.  332.]\n",
      "  [ 341.  105.    0.  337.]]]\n"
     ]
    }
   ],
   "source": [
    "print(np.around(tree_memory[root], decimals=0))"
   ]
  },
  {
   "cell_type": "code",
   "execution_count": 19,
   "metadata": {},
   "outputs": [],
   "source": [
    "first = np.zeros((9, 3, 3), 'float')\n",
    "first[4][1][1] = 1\n",
    "first[8][1][1] = 1\n",
    "first = tuple(first.flatten())"
   ]
  },
  {
   "cell_type": "code",
   "execution_count": 20,
   "metadata": {},
   "outputs": [
    {
     "name": "stdout",
     "output_type": "stream",
     "text": [
      "[[[ 85. -22.   0.  58.]\n",
      "  [ 39. -25.   0.  59.]\n",
      "  [ 89. -24.   0.  58.]]\n",
      "\n",
      " [[ 58. -21.   0.  59.]\n",
      "  [  0.   0.   0.   0.]\n",
      "  [ 42. -22.   0.  58.]]\n",
      "\n",
      " [[ 41. -23.   0.  58.]\n",
      "  [ 52. -28.   0.  60.]\n",
      "  [ 62. -21.   0.  58.]]]\n"
     ]
    }
   ],
   "source": [
    "print(np.around(tree_memory[first], decimals=0))"
   ]
  },
  {
   "cell_type": "code",
   "execution_count": 21,
   "metadata": {},
   "outputs": [],
   "source": [
    "second = np.zeros((9, 3, 3), 'float')\n",
    "second[0][1][1] = 1\n",
    "second[8][1][1] = 1\n",
    "second = tuple(second.flatten())"
   ]
  },
  {
   "cell_type": "code",
   "execution_count": 22,
   "metadata": {},
   "outputs": [
    {
     "name": "stdout",
     "output_type": "stream",
     "text": [
      "[[[ 63. -26.   0.  60.]\n",
      "  [ 39. -28.   0.  60.]\n",
      "  [ 67. -29.   0.  59.]]\n",
      "\n",
      " [[ 46. -24.   0.  60.]\n",
      "  [  0.   0.   0.   0.]\n",
      "  [ 60. -29.   0.  60.]]\n",
      "\n",
      " [[ 70. -29.   0.  60.]\n",
      "  [ 40. -29.   0.  60.]\n",
      "  [ 92. -34.   0.  59.]]]\n"
     ]
    }
   ],
   "source": [
    "print(np.around(tree_memory[second], decimals=0))"
   ]
  },
  {
   "cell_type": "code",
   "execution_count": null,
   "metadata": {},
   "outputs": [],
   "source": []
  }
 ],
 "metadata": {
  "kernelspec": {
   "display_name": "Python 3",
   "language": "python",
   "name": "python3"
  },
  "language_info": {
   "codemirror_mode": {
    "name": "ipython",
    "version": 3
   },
   "file_extension": ".py",
   "mimetype": "text/x-python",
   "name": "python",
   "nbconvert_exporter": "python",
   "pygments_lexer": "ipython3",
   "version": "3.6.4"
  }
 },
 "nbformat": 4,
 "nbformat_minor": 2
}
