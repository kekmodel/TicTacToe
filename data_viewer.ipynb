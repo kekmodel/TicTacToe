{
 "cells": [
  {
   "cell_type": "code",
   "execution_count": 1,
   "metadata": {},
   "outputs": [],
   "source": [
    "import numpy as np\n",
    "from collections import defaultdict, deque\n",
    "from IPython.core.interactiveshell import InteractiveShell\n",
    "InteractiveShell.ast_node_interactivity = \"all\""
   ]
  },
  {
   "cell_type": "code",
   "execution_count": 2,
   "metadata": {},
   "outputs": [],
   "source": [
    "state_memory = np.load('data/state_memory_25k.npy')\n",
    "edge_memory = np.load('data/edge_memory_25k.npy')\n",
    "\n",
    "node_memory = deque(maxlen=len(state_memory))\n",
    "tree_memory = defaultdict(lambda: 0)\n",
    "\n",
    "# make tree\n",
    "for v in state_memory:\n",
    "    v_t = tuple(v)\n",
    "    node_memory.append(v_t)\n",
    "tmp = list(zip(node_memory, edge_memory))\n",
    "for v in tmp:\n",
    "    tree_memory[v[0]] += v[1]"
   ]
  },
  {
   "cell_type": "code",
   "execution_count": 8,
   "metadata": {},
   "outputs": [
    {
     "data": {
      "text/plain": [
       "208073"
      ]
     },
     "execution_count": 8,
     "metadata": {},
     "output_type": "execute_result"
    },
    {
     "data": {
      "text/plain": [
       "6502.28125"
      ]
     },
     "execution_count": 8,
     "metadata": {},
     "output_type": "execute_result"
    }
   ],
   "source": [
    "len(state_memory)\n",
    "len(edge_memory)/32"
   ]
  },
  {
   "cell_type": "code",
   "execution_count": 4,
   "metadata": {},
   "outputs": [
    {
     "data": {
      "text/plain": [
       "20925"
      ]
     },
     "execution_count": 4,
     "metadata": {},
     "output_type": "execute_result"
    }
   ],
   "source": [
    "len(tree_memory)"
   ]
  },
  {
   "cell_type": "code",
   "execution_count": 5,
   "metadata": {},
   "outputs": [
    {
     "data": {
      "text/plain": [
       "0.1"
      ]
     },
     "execution_count": 5,
     "metadata": {},
     "output_type": "execute_result"
    }
   ],
   "source": [
    "round(len(tree_memory)/len(state_memory), 2)"
   ]
  },
  {
   "cell_type": "code",
   "execution_count": 6,
   "metadata": {},
   "outputs": [],
   "source": [
    "root = tuple(np.zeros((9, 3, 3), 'float').flatten())"
   ]
  },
  {
   "cell_type": "code",
   "execution_count": 8,
   "metadata": {},
   "outputs": [
    {
     "name": "stdout",
     "output_type": "stream",
     "text": [
      "[[[ 1391.    155.      0.   2774.2]\n",
      "  [ 1931.    228.      0.   2782.4]\n",
      "  [ 1005.    103.      0.   2776.8]]\n",
      "\n",
      " [[ 3985.    496.      0.   2779.6]\n",
      "  [ 9073.   1164.      0.   2777.6]\n",
      "  [ 3534.    436.      0.   2779.9]]\n",
      "\n",
      " [[ 1266.    139.      0.   2770.4]\n",
      "  [ 1298.    141.      0.   2779.7]\n",
      "  [ 1517.    169.      0.   2779.4]]]\n"
     ]
    }
   ],
   "source": [
    "print(np.around(tree_memory[root], decimals=1))"
   ]
  },
  {
   "cell_type": "code",
   "execution_count": null,
   "metadata": {},
   "outputs": [],
   "source": []
  },
  {
   "cell_type": "code",
   "execution_count": null,
   "metadata": {},
   "outputs": [],
   "source": []
  }
 ],
 "metadata": {
  "kernelspec": {
   "display_name": "Python 3",
   "language": "python",
   "name": "python3"
  },
  "language_info": {
   "codemirror_mode": {
    "name": "ipython",
    "version": 3
   },
   "file_extension": ".py",
   "mimetype": "text/x-python",
   "name": "python",
   "nbconvert_exporter": "python",
   "pygments_lexer": "ipython3",
   "version": "3.6.4"
  }
 },
 "nbformat": 4,
 "nbformat_minor": 2
}
