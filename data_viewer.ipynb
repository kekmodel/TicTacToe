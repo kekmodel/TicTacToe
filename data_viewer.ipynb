{
 "cells": [
  {
   "cell_type": "code",
   "execution_count": 45,
   "metadata": {},
   "outputs": [],
   "source": [
    "import numpy as np\n",
    "np.set_printoptions(suppress=True)\n",
    "from collections import defaultdict, deque\n",
    "from IPython.core.interactiveshell import InteractiveShell\n",
    "InteractiveShell.ast_node_interactivity = \"all\""
   ]
  },
  {
   "cell_type": "code",
   "execution_count": 56,
   "metadata": {},
   "outputs": [],
   "source": [
    "state_memory = np.load('data/state_memory_e800_c5a0.85.npy')\n",
    "edge_memory = np.load('data/edge_memory_e800_c5a0.85.npy')\n",
    "\n",
    "node_memory = deque(maxlen=len(state_memory))\n",
    "tree_memory = defaultdict(lambda: 0)\n",
    "\n",
    "# make tree\n",
    "for v in state_memory:\n",
    "    v_t = tuple(v)\n",
    "    node_memory.append(v_t)\n",
    "tmp = list(zip(node_memory, edge_memory))\n",
    "for v in tmp:\n",
    "    tree_memory[v[0]] += v[1]"
   ]
  },
  {
   "cell_type": "code",
   "execution_count": 57,
   "metadata": {},
   "outputs": [
    {
     "data": {
      "text/plain": [
       "6053"
      ]
     },
     "execution_count": 57,
     "metadata": {},
     "output_type": "execute_result"
    },
    {
     "data": {
      "text/plain": [
       "6053"
      ]
     },
     "execution_count": 57,
     "metadata": {},
     "output_type": "execute_result"
    }
   ],
   "source": [
    "len(state_memory)\n",
    "len(edge_memory)"
   ]
  },
  {
   "cell_type": "code",
   "execution_count": 58,
   "metadata": {},
   "outputs": [
    {
     "data": {
      "text/plain": [
       "3451"
      ]
     },
     "execution_count": 58,
     "metadata": {},
     "output_type": "execute_result"
    }
   ],
   "source": [
    "len(tree_memory)"
   ]
  },
  {
   "cell_type": "code",
   "execution_count": 59,
   "metadata": {},
   "outputs": [
    {
     "data": {
      "text/plain": [
       "0.57"
      ]
     },
     "execution_count": 59,
     "metadata": {},
     "output_type": "execute_result"
    }
   ],
   "source": [
    "round(len(tree_memory)/len(state_memory), 2)"
   ]
  },
  {
   "cell_type": "code",
   "execution_count": 60,
   "metadata": {},
   "outputs": [],
   "source": [
    "root = tuple(np.zeros((9, 3, 3), 'float').flatten())"
   ]
  },
  {
   "cell_type": "code",
   "execution_count": 66,
   "metadata": {},
   "outputs": [
    {
     "name": "stdout",
     "output_type": "stream",
     "text": [
      "[[[ 107.   33.    0.   89.]\n",
      "  [  73.   15.    0.   88.]\n",
      "  [ 114.   37.    0.   89.]]\n",
      "\n",
      " [[  44.   -2.    0.   90.]\n",
      "  [ 221.   97.    0.   89.]\n",
      "  [  69.   13.    0.   89.]]\n",
      "\n",
      " [[  48.    3.    0.   89.]\n",
      "  [  56.    6.    0.   88.]\n",
      "  [  68.   11.    0.   88.]]]\n"
     ]
    }
   ],
   "source": [
    "print(np.around(tree_memory[root], decimals=0))"
   ]
  },
  {
   "cell_type": "code",
   "execution_count": 67,
   "metadata": {},
   "outputs": [],
   "source": [
    "first = np.zeros((9, 3, 3), 'float')\n",
    "first[4][1][1] = 1\n",
    "first[8][1][1] = 1\n",
    "first = tuple(first.flatten())"
   ]
  },
  {
   "cell_type": "code",
   "execution_count": 68,
   "metadata": {},
   "outputs": [
    {
     "name": "stdout",
     "output_type": "stream",
     "text": [
      "[[[  7.  -6.   0.  12.]\n",
      "  [  7.  -6.   0.  12.]\n",
      "  [ 23.  -6.   0.  12.]]\n",
      "\n",
      " [[ 12.  -6.   0.  12.]\n",
      "  [  0.   0.   0.   0.]\n",
      "  [ 10.  -6.   0.  12.]]\n",
      "\n",
      " [[ 19.  -6.   0.  12.]\n",
      "  [ 10.  -6.   0.  12.]\n",
      "  [ 11.  -6.   0.  12.]]]\n"
     ]
    }
   ],
   "source": [
    "print(np.around(tree_memory[first], decimals=0))"
   ]
  },
  {
   "cell_type": "code",
   "execution_count": 69,
   "metadata": {},
   "outputs": [],
   "source": [
    "second = np.zeros((9, 3, 3), 'float')\n",
    "second[0][1][1] = 1\n",
    "second[8][1][1] = 1\n",
    "second = tuple(second.flatten())"
   ]
  },
  {
   "cell_type": "code",
   "execution_count": 70,
   "metadata": {},
   "outputs": [
    {
     "name": "stdout",
     "output_type": "stream",
     "text": [
      "[[[ 15.  -3.   0.  15.]\n",
      "  [ 10.  -6.   0.  15.]\n",
      "  [ 17.  -7.   0.  15.]]\n",
      "\n",
      " [[  7.  -6.   0.  15.]\n",
      "  [  0.   0.   0.   0.]\n",
      "  [ 10.  -6.   0.  15.]]\n",
      "\n",
      " [[ 25.  -7.   0.  15.]\n",
      "  [ 18.  -7.   0.  15.]\n",
      "  [ 20.  -7.   0.  15.]]]\n"
     ]
    }
   ],
   "source": [
    "print(np.around(tree_memory[second], decimals=0))"
   ]
  },
  {
   "cell_type": "code",
   "execution_count": null,
   "metadata": {},
   "outputs": [],
   "source": []
  },
  {
   "cell_type": "code",
   "execution_count": null,
   "metadata": {},
   "outputs": [],
   "source": []
  }
 ],
 "metadata": {
  "kernelspec": {
   "display_name": "Python 3",
   "language": "python",
   "name": "python3"
  },
  "language_info": {
   "codemirror_mode": {
    "name": "ipython",
    "version": 3
   },
   "file_extension": ".py",
   "mimetype": "text/x-python",
   "name": "python",
   "nbconvert_exporter": "python",
   "pygments_lexer": "ipython3",
   "version": "3.6.4"
  }
 },
 "nbformat": 4,
 "nbformat_minor": 2
}
